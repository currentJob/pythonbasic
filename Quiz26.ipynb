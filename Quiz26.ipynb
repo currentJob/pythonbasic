{
  "nbformat": 4,
  "nbformat_minor": 0,
  "metadata": {
    "colab": {
      "name": "Quiz26.ipynb",
      "provenance": [],
      "collapsed_sections": [],
      "authorship_tag": "ABX9TyN4u57yv/9nPc6Tzd1RzTIe",
      "include_colab_link": true
    },
    "kernelspec": {
      "name": "python3",
      "display_name": "Python 3"
    }
  },
  "cells": [
    {
      "cell_type": "markdown",
      "metadata": {
        "id": "view-in-github",
        "colab_type": "text"
      },
      "source": [
        "<a href=\"https://colab.research.google.com/github/leee2682/pythonbasic/blob/main/Quiz26.ipynb\" target=\"_parent\"><img src=\"https://colab.research.google.com/assets/colab-badge.svg\" alt=\"Open In Colab\"/></a>"
      ]
    },
    {
      "cell_type": "code",
      "metadata": {
        "colab": {
          "base_uri": "https://localhost:8080/"
        },
        "id": "PWNjuTppJJgk",
        "outputId": "64320de5-21e1-418d-e6bc-3087f04a3e7c"
      },
      "source": [
        "nums = [100, 200, 300, 400, 500]\r\n",
        "\r\n",
        "del nums[3:]\r\n",
        "print(nums)"
      ],
      "execution_count": 419,
      "outputs": [
        {
          "output_type": "stream",
          "text": [
            "[100, 200, 300]\n"
          ],
          "name": "stdout"
        }
      ]
    },
    {
      "cell_type": "code",
      "metadata": {
        "colab": {
          "base_uri": "https://localhost:8080/"
        },
        "id": "wqWCiwAdKK1T",
        "outputId": "0d7785da-f529-41ea-95f2-8fada2738cef"
      },
      "source": [
        "l = [200, 100, 300]\r\n",
        "\r\n",
        "l.insert(2, 1000)\r\n",
        "print(l)"
      ],
      "execution_count": 25,
      "outputs": [
        {
          "output_type": "stream",
          "text": [
            "[200, 100, 1000, 300]\n"
          ],
          "name": "stdout"
        }
      ]
    },
    {
      "cell_type": "code",
      "metadata": {
        "colab": {
          "base_uri": "https://localhost:8080/"
        },
        "id": "bTd0Afz6O_NA",
        "outputId": "5805e936-9e6d-4ab0-bd89-9238b7967890"
      },
      "source": [
        "l = [100, 200, 300]\r\n",
        "\r\n",
        "print(type(l))"
      ],
      "execution_count": 421,
      "outputs": [
        {
          "output_type": "stream",
          "text": [
            "<class 'list'>\n"
          ],
          "name": "stdout"
        }
      ]
    },
    {
      "cell_type": "code",
      "metadata": {
        "colab": {
          "base_uri": "https://localhost:8080/"
        },
        "id": "AZ6riotPPCSE",
        "outputId": "980c9f75-449d-47c1-ee19-06f000989f92"
      },
      "source": [
        "a = 1\r\n",
        "print(type(a))\r\n",
        "\r\n",
        "a =2.22\r\n",
        "print(type(a))\r\n",
        "\r\n",
        "a='p'\r\n",
        "print(type(a))\r\n",
        "\r\n",
        "a = [1, 2, 3]\r\n",
        "print(type(a))"
      ],
      "execution_count": 422,
      "outputs": [
        {
          "output_type": "stream",
          "text": [
            "<class 'int'>\n",
            "<class 'float'>\n",
            "<class 'str'>\n",
            "<class 'list'>\n"
          ],
          "name": "stdout"
        }
      ]
    },
    {
      "cell_type": "code",
      "metadata": {
        "colab": {
          "base_uri": "https://localhost:8080/"
        },
        "id": "Y8mJNjT_Pzn8",
        "outputId": "9899c385-b79b-46c4-aa81-203c2ad8ac8f"
      },
      "source": [
        "a=10\r\n",
        "b=2\r\n",
        "\r\n",
        "for i in range(1, 5, 2):\r\n",
        "  a += i\r\n",
        "\r\n",
        "print(a + b)"
      ],
      "execution_count": 424,
      "outputs": [
        {
          "output_type": "stream",
          "text": [
            "16\n"
          ],
          "name": "stdout"
        }
      ]
    },
    {
      "cell_type": "code",
      "metadata": {
        "colab": {
          "base_uri": "https://localhost:8080/"
        },
        "id": "6dqaVYWNQgUp",
        "outputId": "e18499e6-50df-4b29-a943-46cab29c8d2f"
      },
      "source": [
        "bool(10000)"
      ],
      "execution_count": 56,
      "outputs": [
        {
          "output_type": "execute_result",
          "data": {
            "text/plain": [
              "True"
            ]
          },
          "metadata": {
            "tags": []
          },
          "execution_count": 56
        }
      ]
    },
    {
      "cell_type": "code",
      "metadata": {
        "colab": {
          "base_uri": "https://localhost:8080/"
        },
        "id": "7rNySIYVQg-y",
        "outputId": "89fa1c69-cf68-479b-a2d6-1c7bfcd6d4a2"
      },
      "source": [
        "0"
      ],
      "execution_count": 43,
      "outputs": [
        {
          "output_type": "execute_result",
          "data": {
            "text/plain": [
              "0"
            ]
          },
          "metadata": {
            "tags": []
          },
          "execution_count": 43
        }
      ]
    },
    {
      "cell_type": "code",
      "metadata": {
        "colab": {
          "base_uri": "https://localhost:8080/"
        },
        "id": "lF877P8iRsx8",
        "outputId": "20b10a7d-0d3a-43d9-849d-ca9885e91930"
      },
      "source": [
        "1"
      ],
      "execution_count": 44,
      "outputs": [
        {
          "output_type": "execute_result",
          "data": {
            "text/plain": [
              "1"
            ]
          },
          "metadata": {
            "tags": []
          },
          "execution_count": 44
        }
      ]
    },
    {
      "cell_type": "code",
      "metadata": {
        "id": "j8njB-F4RtuQ"
      },
      "source": [
        "age = 1"
      ],
      "execution_count": 50,
      "outputs": []
    },
    {
      "cell_type": "code",
      "metadata": {
        "id": "199TpIisSPyJ"
      },
      "source": [
        "d = {'a':100, 'a':5}"
      ],
      "execution_count": 51,
      "outputs": []
    },
    {
      "cell_type": "code",
      "metadata": {
        "colab": {
          "base_uri": "https://localhost:8080/"
        },
        "id": "DT_8rwdQSRYA",
        "outputId": "54e274aa-3f83-4daf-88e0-6f234a87c2b0"
      },
      "source": [
        "print(d['a'])"
      ],
      "execution_count": 54,
      "outputs": [
        {
          "output_type": "stream",
          "text": [
            "5\n"
          ],
          "name": "stdout"
        }
      ]
    },
    {
      "cell_type": "code",
      "metadata": {
        "id": "SfyDUUneTIcZ"
      },
      "source": [
        "a = 1"
      ],
      "execution_count": 57,
      "outputs": []
    },
    {
      "cell_type": "code",
      "metadata": {
        "colab": {
          "base_uri": "https://localhost:8080/"
        },
        "id": "PPhsWL5aUIQd",
        "outputId": "0b1d8e99-0ba2-4242-afef-9ed0918861ae"
      },
      "source": [
        "type(a)"
      ],
      "execution_count": 58,
      "outputs": [
        {
          "output_type": "execute_result",
          "data": {
            "text/plain": [
              "int"
            ]
          },
          "metadata": {
            "tags": []
          },
          "execution_count": 58
        }
      ]
    },
    {
      "cell_type": "code",
      "metadata": {
        "colab": {
          "base_uri": "https://localhost:8080/"
        },
        "id": "5Tr2iHN3UJiQ",
        "outputId": "d379073c-b6c7-461f-93f5-744341f6a01e"
      },
      "source": [
        "year = '2019'\r\n",
        "month = '04'\r\n",
        "day = '26'\r\n",
        "hour = '11'\r\n",
        "minute = '34'\r\n",
        "second = '27'\r\n",
        "\r\n",
        "print(year, month, day, sep='/', end=' ')\r\n",
        "print(hour, minute, second, sep=':')\r\n"
      ],
      "execution_count": 70,
      "outputs": [
        {
          "output_type": "stream",
          "text": [
            "2019/04/26 11:34:27\n"
          ],
          "name": "stdout"
        }
      ]
    },
    {
      "cell_type": "code",
      "metadata": {
        "colab": {
          "base_uri": "https://localhost:8080/"
        },
        "id": "X4p7AP1vXh4p",
        "outputId": "e02f78c6-f3b0-42f8-cd75-30daae83f890"
      },
      "source": [
        "n = int(input())\r\n",
        "for i in range(1, n + 1):\r\n",
        "  print(\" \" * (n - i) + \"*\" * (2 * i - 1))\r\n",
        "\r\n",
        "\r\n"
      ],
      "execution_count": 140,
      "outputs": [
        {
          "output_type": "stream",
          "text": [
            "5\n",
            "    *\n",
            "   ***\n",
            "  *****\n",
            " *******\n",
            "*********\n"
          ],
          "name": "stdout"
        }
      ]
    },
    {
      "cell_type": "code",
      "metadata": {
        "colab": {
          "base_uri": "https://localhost:8080/"
        },
        "id": "pBAWRnSLatvu",
        "outputId": "f9f935e1-7f74-4d9d-bcc8-19842ea64c14"
      },
      "source": [
        "n = int(input(\"몇단짜리 크리스마스 트리를 만들까요?\"))\r\n",
        "\r\n",
        "for i in range(1, n * 2, 2):\r\n",
        "  print((\" \" * ((n * 2 - 1 - i) // 2)) + (\"*\" * i))"
      ],
      "execution_count": 93,
      "outputs": [
        {
          "output_type": "stream",
          "text": [
            "몇단짜리 크리스마스 트리를 만들까요?5\n",
            "    *\n",
            "   ***\n",
            "  *****\n",
            " *******\n",
            "*********\n"
          ],
          "name": "stdout"
        }
      ]
    },
    {
      "cell_type": "code",
      "metadata": {
        "colab": {
          "base_uri": "https://localhost:8080/"
        },
        "id": "e-lIQY8tceO5",
        "outputId": "54fe6509-3df4-457f-e57a-602d80ef6265"
      },
      "source": [
        "s = 0\r\n",
        "\r\n",
        "for i in range(1,101):\r\n",
        "  s = s + i\r\n",
        "\r\n",
        "print(s)"
      ],
      "execution_count": 142,
      "outputs": [
        {
          "output_type": "stream",
          "text": [
            "5050\n"
          ],
          "name": "stdout"
        }
      ]
    },
    {
      "cell_type": "code",
      "metadata": {
        "colab": {
          "base_uri": "https://localhost:8080/"
        },
        "id": "VzaWhJ5yyKKd",
        "outputId": "328b635b-9e43-4a34-c131-31e3712a8b7d"
      },
      "source": [
        "n = int(input())\r\n",
        "x = [\"수성\", \"금성\", \"지구\", \"화성\", \"목성\", \"토성\", \"천왕성\", \"해왕성\"]\r\n",
        "\r\n",
        "print(x[n - 1])"
      ],
      "execution_count": 212,
      "outputs": [
        {
          "output_type": "stream",
          "text": [
            "3\n",
            "지구\n"
          ],
          "name": "stdout"
        }
      ]
    },
    {
      "cell_type": "code",
      "metadata": {
        "colab": {
          "base_uri": "https://localhost:8080/"
        },
        "id": "Bvsl8eXz3OaD",
        "outputId": "93f9ba31-1da0-4ee8-f1ac-52703b20ec31"
      },
      "source": [
        "class Wizard:\r\n",
        "  def __init__(self, health, mana, armor):\r\n",
        "    self.health = health\r\n",
        "    self.mana = mana\r\n",
        "    self.armor = armor\r\n",
        "  def attack(self):\r\n",
        "    print(\"파이어볼\")\r\n",
        "\r\n",
        "x = Wizard(health = 545, mana = 210, armor = 10)\r\n",
        "print(x.health, x.mana, x.armor)\r\n",
        "x.attack()"
      ],
      "execution_count": 199,
      "outputs": [
        {
          "output_type": "stream",
          "text": [
            "545 210 10\n",
            "파이어볼\n"
          ],
          "name": "stdout"
        }
      ]
    },
    {
      "cell_type": "code",
      "metadata": {
        "colab": {
          "base_uri": "https://localhost:8080/",
          "height": 53
        },
        "id": "lYYd-m4j99SR",
        "outputId": "57d29657-0aae-43db-f132-50fa0feb7d23"
      },
      "source": [
        "n = int(input())\r\n",
        "dic = {1:'수성',2:'금성',3:'지구',4:'화성',5:'목성',6:'토성',7:'천왕성',8:'해왕성'}\r\n",
        "dic[n]"
      ],
      "execution_count": 203,
      "outputs": [
        {
          "output_type": "stream",
          "text": [
            "8\n"
          ],
          "name": "stdout"
        },
        {
          "output_type": "execute_result",
          "data": {
            "application/vnd.google.colaboratory.intrinsic+json": {
              "type": "string"
            },
            "text/plain": [
              "'해왕성'"
            ]
          },
          "metadata": {
            "tags": []
          },
          "execution_count": 203
        }
      ]
    },
    {
      "cell_type": "code",
      "metadata": {
        "colab": {
          "base_uri": "https://localhost:8080/"
        },
        "id": "HWY12Aro_Wa7",
        "outputId": "5707ee2a-038c-4521-9fde-0000f171988f"
      },
      "source": [
        "n = int(input())\r\n",
        "\r\n",
        "if n % 3 == 0:\r\n",
        "  print(\"짝\")\r\n",
        "else:\r\n",
        "  print(n)"
      ],
      "execution_count": 222,
      "outputs": [
        {
          "output_type": "stream",
          "text": [
            "6\n",
            "짝\n"
          ],
          "name": "stdout"
        }
      ]
    },
    {
      "cell_type": "code",
      "metadata": {
        "colab": {
          "base_uri": "https://localhost:8080/"
        },
        "id": "1u-_yB0TBSo-",
        "outputId": "3530a96a-34b0-4e27-aa53-a9e5465b9327"
      },
      "source": [
        "n = input()\r\n",
        "\r\n",
        "print(\"안녕하세요. 저는 %s 입니다.\" %n)\r\n",
        "print(\"안녕하세요. 저는 {} 입니다.\" .format(n))"
      ],
      "execution_count": 242,
      "outputs": [
        {
          "output_type": "stream",
          "text": [
            "sdfadsaf\n",
            "안녕하세요. 저는 sdfadsaf 입니다.\n",
            "안녕하세요. 저는 sdfadsaf 입니다.\n"
          ],
          "name": "stdout"
        }
      ]
    },
    {
      "cell_type": "code",
      "metadata": {
        "colab": {
          "base_uri": "https://localhost:8080/"
        },
        "id": "1F8WYC83EJKq",
        "outputId": "7340a2d5-1af0-497c-f680-9f1747e8bbc6"
      },
      "source": [
        "s = input()\r\n",
        "r = ''\r\n",
        "\r\n",
        "for i in s:\r\n",
        "    r = i + r\r\n",
        "\r\n",
        "print(r)"
      ],
      "execution_count": 270,
      "outputs": [
        {
          "output_type": "stream",
          "text": [
            "ㅁㄴㅇㄹㄴㅇㅁ\n",
            "ㅁㅇㄴㄹㅇㄴㅁ\n"
          ],
          "name": "stdout"
        }
      ]
    },
    {
      "cell_type": "code",
      "metadata": {
        "colab": {
          "base_uri": "https://localhost:8080/"
        },
        "id": "IGLNLujiF8xn",
        "outputId": "17ea9fc2-4997-4ee2-837c-0dca997f90af"
      },
      "source": [
        "s = input()\r\n",
        "print(s[::-1])"
      ],
      "execution_count": 268,
      "outputs": [
        {
          "output_type": "stream",
          "text": [
            "ㄴㅁㅇㄹ\n",
            "ㄹㅇㅁㄴ\n"
          ],
          "name": "stdout"
        }
      ]
    },
    {
      "cell_type": "code",
      "metadata": {
        "colab": {
          "base_uri": "https://localhost:8080/"
        },
        "id": "mAJykKlFG4Ik",
        "outputId": "cc4b6575-21a6-4a9e-bb0d-c461e02a5a37"
      },
      "source": [
        "x = int(input())\r\n",
        "\r\n",
        "if x >= 150:\r\n",
        "  print(\"Yes\")\r\n",
        "else:\r\n",
        "  print(\"No\")"
      ],
      "execution_count": 274,
      "outputs": [
        {
          "output_type": "stream",
          "text": [
            "140\n",
            "No\n"
          ],
          "name": "stdout"
        }
      ]
    },
    {
      "cell_type": "code",
      "metadata": {
        "colab": {
          "base_uri": "https://localhost:8080/",
          "height": 208
        },
        "id": "iXK_lcGIICTH",
        "outputId": "b607d030-b263-40c5-80d3-a74f1ca9cb25"
      },
      "source": [
        "n = list(map(int, input().split()))\r\n",
        "print(round(sum(n)/len(n)))"
      ],
      "execution_count": 368,
      "outputs": [
        {
          "output_type": "stream",
          "text": [
            "40 90\n"
          ],
          "name": "stdout"
        },
        {
          "output_type": "error",
          "ename": "TypeError",
          "evalue": "ignored",
          "traceback": [
            "\u001b[0;31m---------------------------------------------------------------------------\u001b[0m",
            "\u001b[0;31mTypeError\u001b[0m                                 Traceback (most recent call last)",
            "\u001b[0;32m<ipython-input-368-b788407ef833>\u001b[0m in \u001b[0;36m<module>\u001b[0;34m()\u001b[0m\n\u001b[1;32m      1\u001b[0m \u001b[0mn\u001b[0m \u001b[0;34m=\u001b[0m \u001b[0mmap\u001b[0m\u001b[0;34m(\u001b[0m\u001b[0mint\u001b[0m\u001b[0;34m,\u001b[0m \u001b[0minput\u001b[0m\u001b[0;34m(\u001b[0m\u001b[0;34m)\u001b[0m\u001b[0;34m.\u001b[0m\u001b[0msplit\u001b[0m\u001b[0;34m(\u001b[0m\u001b[0;34m)\u001b[0m\u001b[0;34m)\u001b[0m\u001b[0;34m\u001b[0m\u001b[0;34m\u001b[0m\u001b[0m\n\u001b[0;32m----> 2\u001b[0;31m \u001b[0mprint\u001b[0m\u001b[0;34m(\u001b[0m\u001b[0msum\u001b[0m\u001b[0;34m(\u001b[0m\u001b[0mn\u001b[0m\u001b[0;34m)\u001b[0m\u001b[0;34m/\u001b[0m\u001b[0mlen\u001b[0m\u001b[0;34m(\u001b[0m\u001b[0mn\u001b[0m\u001b[0;34m)\u001b[0m\u001b[0;34m)\u001b[0m\u001b[0;34m\u001b[0m\u001b[0;34m\u001b[0m\u001b[0m\n\u001b[0m",
            "\u001b[0;31mTypeError\u001b[0m: 'int' object is not callable"
          ]
        }
      ]
    },
    {
      "cell_type": "markdown",
      "metadata": {
        "id": "ti5J36zlPVgp"
      },
      "source": [
        ""
      ]
    },
    {
      "cell_type": "code",
      "metadata": {
        "colab": {
          "base_uri": "https://localhost:8080/"
        },
        "id": "EXEw8bpaPH9q",
        "outputId": "61a6cbd1-c327-4190-fc50-0fd3bb849f76"
      },
      "source": [
        "a, b = map(int,input().split())\r\n",
        "print(a**b)"
      ],
      "execution_count": 350,
      "outputs": [
        {
          "output_type": "stream",
          "text": [
            "2 1\n",
            "2\n"
          ],
          "name": "stdout"
        }
      ]
    },
    {
      "cell_type": "code",
      "metadata": {
        "colab": {
          "base_uri": "https://localhost:8080/"
        },
        "id": "rNJS_tyYPNYQ",
        "outputId": "676d8f27-02c7-4421-d17c-9e55423ca253"
      },
      "source": [
        "n = list(map(int, input().split())) # 입력받은걸 \" \" 기준으로 나눠서 리스트로 저장\r\n",
        "print(n[0] ** n[1]) "
      ],
      "execution_count": 351,
      "outputs": [
        {
          "output_type": "stream",
          "text": [
            "3 2\n",
            "9\n"
          ],
          "name": "stdout"
        }
      ]
    },
    {
      "cell_type": "code",
      "metadata": {
        "colab": {
          "base_uri": "https://localhost:8080/"
        },
        "id": "pBFxZgIOPsWw",
        "outputId": "f4efdd46-8d66-49e6-8ea8-6d25d64ae1e4"
      },
      "source": [
        "n = list(map(int, input().split()))\r\n",
        "print(n[0] // n[1], n[0] % n[1])"
      ],
      "execution_count": 366,
      "outputs": [
        {
          "output_type": "stream",
          "text": [
            "4 2\n",
            "2 0\n"
          ],
          "name": "stdout"
        }
      ]
    },
    {
      "cell_type": "code",
      "metadata": {
        "colab": {
          "base_uri": "https://localhost:8080/"
        },
        "id": "5WC9xCwJQ226",
        "outputId": "838ed0fc-5c56-4e8d-d58c-eb493446410b"
      },
      "source": [
        "x = {1, 2, 3, 4, 5, 6, 7}\r\n",
        "print(type(x))\r\n",
        "\r\n",
        "x = {}\r\n",
        "print(type(x))\r\n",
        "\r\n",
        "x = set('python')\r\n",
        "print(type(x))\r\n",
        "\r\n",
        "x = set(range(5))\r\n",
        "print(type(x))\r\n",
        "\r\n",
        "x = set()\r\n",
        "print(type(x))"
      ],
      "execution_count": 370,
      "outputs": [
        {
          "output_type": "stream",
          "text": [
            "<class 'set'>\n",
            "<class 'dict'>\n",
            "<class 'set'>\n",
            "<class 'set'>\n",
            "<class 'set'>\n"
          ],
          "name": "stdout"
        }
      ]
    },
    {
      "cell_type": "code",
      "metadata": {
        "colab": {
          "base_uri": "https://localhost:8080/"
        },
        "id": "VYFAkrseS2FY",
        "outputId": "e9c83731-1e45-404e-a468-12f7482bc6bc"
      },
      "source": [
        "print(10/2)"
      ],
      "execution_count": 371,
      "outputs": [
        {
          "output_type": "stream",
          "text": [
            "5.0\n"
          ],
          "name": "stdout"
        }
      ]
    },
    {
      "cell_type": "code",
      "metadata": {
        "colab": {
          "base_uri": "https://localhost:8080/",
          "height": 53
        },
        "id": "L6jbAAkGTTK0",
        "outputId": "40870b89-dfe0-4c05-a24e-539a6ee86c4b"
      },
      "source": [
        "n = input()\r\n",
        "n.upper()\r\n",
        "\r\n",
        "# print(input().upper())"
      ],
      "execution_count": 377,
      "outputs": [
        {
          "output_type": "stream",
          "text": [
            "sadf\n"
          ],
          "name": "stdout"
        },
        {
          "output_type": "execute_result",
          "data": {
            "application/vnd.google.colaboratory.intrinsic+json": {
              "type": "string"
            },
            "text/plain": [
              "'SADF'"
            ]
          },
          "metadata": {
            "tags": []
          },
          "execution_count": 377
        }
      ]
    },
    {
      "cell_type": "code",
      "metadata": {
        "colab": {
          "base_uri": "https://localhost:8080/"
        },
        "id": "gVkflQP-T3_L",
        "outputId": "d66d8f4e-41c4-43db-bfa8-7e1ec241b91f"
      },
      "source": [
        "def circle(n):\r\n",
        "  return n * n * 3.14\r\n",
        "\r\n",
        "circle(int(input()))"
      ],
      "execution_count": 382,
      "outputs": [
        {
          "output_type": "stream",
          "text": [
            "1\n"
          ],
          "name": "stdout"
        },
        {
          "output_type": "execute_result",
          "data": {
            "text/plain": [
              "3.14"
            ]
          },
          "metadata": {
            "tags": []
          },
          "execution_count": 382
        }
      ]
    },
    {
      "cell_type": "code",
      "metadata": {
        "colab": {
          "base_uri": "https://localhost:8080/"
        },
        "id": "S1ohgFC0VGzw",
        "outputId": "907393c2-85c0-4f5c-c8a2-a8b6abe4bd4e"
      },
      "source": [
        "planet = {\r\n",
        "    '수성': 'Mercury',\r\n",
        "    '금성': 'Venus',\r\n",
        "    '지구': 'Earth',\r\n",
        "    '화성': 'Mars',\r\n",
        "    '목성': 'Jupiter',\r\n",
        "    '토성': 'Saturn',\r\n",
        "    '천왕성': 'Uranus',\r\n",
        "    '해왕성': 'Neptune',\r\n",
        "}\r\n",
        "\r\n",
        "try:\r\n",
        "  a = input()\r\n",
        "  print(planet[a])\r\n",
        "except KeyError:\r\n",
        "  print('찾을 수 없는 행성입니다.')\r\n",
        "\r\n",
        "# print(planet.get(input()))"
      ],
      "execution_count": 420,
      "outputs": [
        {
          "output_type": "stream",
          "text": [
            "지구\n",
            "Earth\n"
          ],
          "name": "stdout"
        }
      ]
    },
    {
      "cell_type": "code",
      "metadata": {
        "id": "TwiHbW-4Xdvv"
      },
      "source": [
        ""
      ],
      "execution_count": null,
      "outputs": []
    }
  ]
}