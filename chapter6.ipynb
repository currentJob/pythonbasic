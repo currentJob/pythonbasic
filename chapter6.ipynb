{
 "cells": [
  {
   "cell_type": "code",
   "execution_count": 1,
   "metadata": {},
   "outputs": [],
   "source": [
    "# 경고(worning)비표시\n",
    "import warnings\n",
    "warnings.filterwarnings('ignore')"
   ]
  },
  {
   "cell_type": "markdown",
   "metadata": {},
   "source": [
    "# 6장 물류의 최적경로를 컨설팅하는 테크닉10"
   ]
  },
  {
   "cell_type": "markdown",
   "metadata": {},
   "source": [
    "### 테크닉 51 : 물류데이터를 불러오자"
   ]
  },
  {
   "cell_type": "code",
   "execution_count": 2,
   "metadata": {},
   "outputs": [
    {
     "data": {
      "text/html": [
       "<div>\n",
       "<style scoped>\n",
       "    .dataframe tbody tr th:only-of-type {\n",
       "        vertical-align: middle;\n",
       "    }\n",
       "\n",
       "    .dataframe tbody tr th {\n",
       "        vertical-align: top;\n",
       "    }\n",
       "\n",
       "    .dataframe thead th {\n",
       "        text-align: right;\n",
       "    }\n",
       "</style>\n",
       "<table border=\"1\" class=\"dataframe\">\n",
       "  <thead>\n",
       "    <tr style=\"text-align: right;\">\n",
       "      <th></th>\n",
       "      <th>FCName</th>\n",
       "      <th>FCDemand</th>\n",
       "      <th>FCRegion</th>\n",
       "    </tr>\n",
       "    <tr>\n",
       "      <th>FCID</th>\n",
       "      <th></th>\n",
       "      <th></th>\n",
       "      <th></th>\n",
       "    </tr>\n",
       "  </thead>\n",
       "  <tbody>\n",
       "    <tr>\n",
       "      <th>FC00001</th>\n",
       "      <td>서울공장</td>\n",
       "      <td>28</td>\n",
       "      <td>북부</td>\n",
       "    </tr>\n",
       "    <tr>\n",
       "      <th>FC00002</th>\n",
       "      <td>수원공장</td>\n",
       "      <td>29</td>\n",
       "      <td>북부</td>\n",
       "    </tr>\n",
       "    <tr>\n",
       "      <th>FC00003</th>\n",
       "      <td>인천공장</td>\n",
       "      <td>31</td>\n",
       "      <td>북부</td>\n",
       "    </tr>\n",
       "    <tr>\n",
       "      <th>FC00004</th>\n",
       "      <td>대전공장</td>\n",
       "      <td>25</td>\n",
       "      <td>북부</td>\n",
       "    </tr>\n",
       "    <tr>\n",
       "      <th>FC00005</th>\n",
       "      <td>대구공장</td>\n",
       "      <td>21</td>\n",
       "      <td>남부</td>\n",
       "    </tr>\n",
       "    <tr>\n",
       "      <th>FC00006</th>\n",
       "      <td>광주공장</td>\n",
       "      <td>30</td>\n",
       "      <td>남부</td>\n",
       "    </tr>\n",
       "    <tr>\n",
       "      <th>FC00007</th>\n",
       "      <td>부산공장</td>\n",
       "      <td>25</td>\n",
       "      <td>남부</td>\n",
       "    </tr>\n",
       "    <tr>\n",
       "      <th>FC00008</th>\n",
       "      <td>울산공장</td>\n",
       "      <td>16</td>\n",
       "      <td>남부</td>\n",
       "    </tr>\n",
       "  </tbody>\n",
       "</table>\n",
       "</div>"
      ],
      "text/plain": [
       "        FCName  FCDemand FCRegion\n",
       "FCID                             \n",
       "FC00001   서울공장        28       북부\n",
       "FC00002   수원공장        29       북부\n",
       "FC00003   인천공장        31       북부\n",
       "FC00004   대전공장        25       북부\n",
       "FC00005   대구공장        21       남부\n",
       "FC00006   광주공장        30       남부\n",
       "FC00007   부산공장        25       남부\n",
       "FC00008   울산공장        16       남부"
      ]
     },
     "execution_count": 2,
     "metadata": {},
     "output_type": "execute_result"
    }
   ],
   "source": [
    "import pandas as pd\n",
    "\n",
    "factories = pd.read_csv(\"tbl_factory.csv\", index_col=0)\n",
    "factories"
   ]
  },
  {
   "cell_type": "code",
   "execution_count": 3,
   "metadata": {},
   "outputs": [],
   "source": [
    "import pandas as pd\n",
    "\n",
    "factories = pd.read_csv(\"tbl_factory.csv\", index_col=0)\n",
    "warehouses = pd.read_csv(\"tbl_warehouse.csv\", index_col=0)\n",
    "trans = pd.read_csv(\"tbl_transaction.csv\", index_col=0)"
   ]
  },
  {
   "cell_type": "code",
   "execution_count": 4,
   "metadata": {},
   "outputs": [
    {
     "data": {
      "text/html": [
       "<div>\n",
       "<style scoped>\n",
       "    .dataframe tbody tr th:only-of-type {\n",
       "        vertical-align: middle;\n",
       "    }\n",
       "\n",
       "    .dataframe tbody tr th {\n",
       "        vertical-align: top;\n",
       "    }\n",
       "\n",
       "    .dataframe thead th {\n",
       "        text-align: right;\n",
       "    }\n",
       "</style>\n",
       "<table border=\"1\" class=\"dataframe\">\n",
       "  <thead>\n",
       "    <tr style=\"text-align: right;\">\n",
       "      <th></th>\n",
       "      <th>WHName</th>\n",
       "      <th>WHSupply</th>\n",
       "      <th>WHRegion</th>\n",
       "    </tr>\n",
       "    <tr>\n",
       "      <th>WHID</th>\n",
       "      <th></th>\n",
       "      <th></th>\n",
       "      <th></th>\n",
       "    </tr>\n",
       "  </thead>\n",
       "  <tbody>\n",
       "    <tr>\n",
       "      <th>WH00001</th>\n",
       "      <td>판교창고</td>\n",
       "      <td>35</td>\n",
       "      <td>북부</td>\n",
       "    </tr>\n",
       "    <tr>\n",
       "      <th>WH00002</th>\n",
       "      <td>용인창고</td>\n",
       "      <td>41</td>\n",
       "      <td>북부</td>\n",
       "    </tr>\n",
       "    <tr>\n",
       "      <th>WH00003</th>\n",
       "      <td>수원창고</td>\n",
       "      <td>42</td>\n",
       "      <td>북부</td>\n",
       "    </tr>\n",
       "    <tr>\n",
       "      <th>WH00004</th>\n",
       "      <td>대전창고</td>\n",
       "      <td>60</td>\n",
       "      <td>남부</td>\n",
       "    </tr>\n",
       "    <tr>\n",
       "      <th>WH00005</th>\n",
       "      <td>대구창고</td>\n",
       "      <td>72</td>\n",
       "      <td>남부</td>\n",
       "    </tr>\n",
       "    <tr>\n",
       "      <th>WH00006</th>\n",
       "      <td>광주창고</td>\n",
       "      <td>65</td>\n",
       "      <td>남부</td>\n",
       "    </tr>\n",
       "  </tbody>\n",
       "</table>\n",
       "</div>"
      ],
      "text/plain": [
       "        WHName  WHSupply WHRegion\n",
       "WHID                             \n",
       "WH00001   판교창고        35       북부\n",
       "WH00002   용인창고        41       북부\n",
       "WH00003   수원창고        42       북부\n",
       "WH00004   대전창고        60       남부\n",
       "WH00005   대구창고        72       남부\n",
       "WH00006   광주창고        65       남부"
      ]
     },
     "execution_count": 4,
     "metadata": {},
     "output_type": "execute_result"
    }
   ],
   "source": [
    "# 창고데이터 불러오기\n",
    "warehouses = pd.read_csv(\"tbl_warehouse.csv\", index_col=0)\n",
    "warehouses"
   ]
  },
  {
   "cell_type": "code",
   "execution_count": 5,
   "metadata": {},
   "outputs": [
    {
     "data": {
      "text/html": [
       "<div>\n",
       "<style scoped>\n",
       "    .dataframe tbody tr th:only-of-type {\n",
       "        vertical-align: middle;\n",
       "    }\n",
       "\n",
       "    .dataframe tbody tr th {\n",
       "        vertical-align: top;\n",
       "    }\n",
       "\n",
       "    .dataframe thead th {\n",
       "        text-align: right;\n",
       "    }\n",
       "</style>\n",
       "<table border=\"1\" class=\"dataframe\">\n",
       "  <thead>\n",
       "    <tr style=\"text-align: right;\">\n",
       "      <th></th>\n",
       "      <th>FCID</th>\n",
       "      <th>WHID</th>\n",
       "      <th>Cost</th>\n",
       "    </tr>\n",
       "    <tr>\n",
       "      <th>RCostID</th>\n",
       "      <th></th>\n",
       "      <th></th>\n",
       "      <th></th>\n",
       "    </tr>\n",
       "  </thead>\n",
       "  <tbody>\n",
       "    <tr>\n",
       "      <th>1</th>\n",
       "      <td>FC00001</td>\n",
       "      <td>WH00001</td>\n",
       "      <td>0.4</td>\n",
       "    </tr>\n",
       "    <tr>\n",
       "      <th>2</th>\n",
       "      <td>FC00001</td>\n",
       "      <td>WH00002</td>\n",
       "      <td>0.8</td>\n",
       "    </tr>\n",
       "    <tr>\n",
       "      <th>3</th>\n",
       "      <td>FC00001</td>\n",
       "      <td>WH00003</td>\n",
       "      <td>1.5</td>\n",
       "    </tr>\n",
       "    <tr>\n",
       "      <th>4</th>\n",
       "      <td>FC00002</td>\n",
       "      <td>WH00001</td>\n",
       "      <td>0.9</td>\n",
       "    </tr>\n",
       "    <tr>\n",
       "      <th>5</th>\n",
       "      <td>FC00002</td>\n",
       "      <td>WH00002</td>\n",
       "      <td>0.8</td>\n",
       "    </tr>\n",
       "  </tbody>\n",
       "</table>\n",
       "</div>"
      ],
      "text/plain": [
       "            FCID     WHID  Cost\n",
       "RCostID                        \n",
       "1        FC00001  WH00001   0.4\n",
       "2        FC00001  WH00002   0.8\n",
       "3        FC00001  WH00003   1.5\n",
       "4        FC00002  WH00001   0.9\n",
       "5        FC00002  WH00002   0.8"
      ]
     },
     "execution_count": 5,
     "metadata": {},
     "output_type": "execute_result"
    }
   ],
   "source": [
    "cost = pd.read_csv(\"rel_cost.csv\", index_col=0)\n",
    "cost.head()"
   ]
  },
  {
   "cell_type": "code",
   "execution_count": 6,
   "metadata": {},
   "outputs": [
    {
     "data": {
      "text/html": [
       "<div>\n",
       "<style scoped>\n",
       "    .dataframe tbody tr th:only-of-type {\n",
       "        vertical-align: middle;\n",
       "    }\n",
       "\n",
       "    .dataframe tbody tr th {\n",
       "        vertical-align: top;\n",
       "    }\n",
       "\n",
       "    .dataframe thead th {\n",
       "        text-align: right;\n",
       "    }\n",
       "</style>\n",
       "<table border=\"1\" class=\"dataframe\">\n",
       "  <thead>\n",
       "    <tr style=\"text-align: right;\">\n",
       "      <th></th>\n",
       "      <th>TransactionDate</th>\n",
       "      <th>ToFC</th>\n",
       "      <th>FromWH</th>\n",
       "      <th>Quantity</th>\n",
       "    </tr>\n",
       "    <tr>\n",
       "      <th>TRID</th>\n",
       "      <th></th>\n",
       "      <th></th>\n",
       "      <th></th>\n",
       "      <th></th>\n",
       "    </tr>\n",
       "  </thead>\n",
       "  <tbody>\n",
       "    <tr>\n",
       "      <th>0</th>\n",
       "      <td>2019-01-01 02:11:10</td>\n",
       "      <td>FC00004</td>\n",
       "      <td>WH00003</td>\n",
       "      <td>33</td>\n",
       "    </tr>\n",
       "    <tr>\n",
       "      <th>1</th>\n",
       "      <td>2019-01-01 06:12:42</td>\n",
       "      <td>FC00007</td>\n",
       "      <td>WH00006</td>\n",
       "      <td>19</td>\n",
       "    </tr>\n",
       "    <tr>\n",
       "      <th>2</th>\n",
       "      <td>2019-01-01 06:32:32</td>\n",
       "      <td>FC00006</td>\n",
       "      <td>WH00004</td>\n",
       "      <td>31</td>\n",
       "    </tr>\n",
       "    <tr>\n",
       "      <th>3</th>\n",
       "      <td>2019-01-01 07:17:06</td>\n",
       "      <td>FC00002</td>\n",
       "      <td>WH00003</td>\n",
       "      <td>18</td>\n",
       "    </tr>\n",
       "    <tr>\n",
       "      <th>4</th>\n",
       "      <td>2019-01-01 07:52:18</td>\n",
       "      <td>FC00001</td>\n",
       "      <td>WH00002</td>\n",
       "      <td>30</td>\n",
       "    </tr>\n",
       "  </tbody>\n",
       "</table>\n",
       "</div>"
      ],
      "text/plain": [
       "          TransactionDate     ToFC   FromWH  Quantity\n",
       "TRID                                                 \n",
       "0     2019-01-01 02:11:10  FC00004  WH00003        33\n",
       "1     2019-01-01 06:12:42  FC00007  WH00006        19\n",
       "2     2019-01-01 06:32:32  FC00006  WH00004        31\n",
       "3     2019-01-01 07:17:06  FC00002  WH00003        18\n",
       "4     2019-01-01 07:52:18  FC00001  WH00002        30"
      ]
     },
     "execution_count": 6,
     "metadata": {},
     "output_type": "execute_result"
    }
   ],
   "source": [
    "trans = pd.read_csv(\"tbl_transaction.csv\", index_col=0)\n",
    "trans.head()"
   ]
  },
  {
   "cell_type": "code",
   "execution_count": 7,
   "metadata": {},
   "outputs": [],
   "source": [
    "join_data = pd.merge(trans, cost, left_on=[\"ToFC\",\"FromWH\"], right_on=[\"FCID\",\"WHID\"], how=\"left\")"
   ]
  },
  {
   "cell_type": "code",
   "execution_count": 8,
   "metadata": {
    "scrolled": true
   },
   "outputs": [],
   "source": [
    "join_data = pd.merge(join_data, factories, left_on=\"ToFC\", right_on=\"FCID\", how=\"left\")"
   ]
  },
  {
   "cell_type": "code",
   "execution_count": 9,
   "metadata": {},
   "outputs": [
    {
     "data": {
      "text/html": [
       "<div>\n",
       "<style scoped>\n",
       "    .dataframe tbody tr th:only-of-type {\n",
       "        vertical-align: middle;\n",
       "    }\n",
       "\n",
       "    .dataframe tbody tr th {\n",
       "        vertical-align: top;\n",
       "    }\n",
       "\n",
       "    .dataframe thead th {\n",
       "        text-align: right;\n",
       "    }\n",
       "</style>\n",
       "<table border=\"1\" class=\"dataframe\">\n",
       "  <thead>\n",
       "    <tr style=\"text-align: right;\">\n",
       "      <th></th>\n",
       "      <th>TransactionDate</th>\n",
       "      <th>Quantity</th>\n",
       "      <th>Cost</th>\n",
       "      <th>ToFC</th>\n",
       "      <th>FCName</th>\n",
       "      <th>FCDemand</th>\n",
       "      <th>FromWH</th>\n",
       "      <th>WHName</th>\n",
       "      <th>WHSupply</th>\n",
       "      <th>WHRegion</th>\n",
       "    </tr>\n",
       "  </thead>\n",
       "  <tbody>\n",
       "    <tr>\n",
       "      <th>0</th>\n",
       "      <td>2019-01-01 02:11:10</td>\n",
       "      <td>33</td>\n",
       "      <td>1.1</td>\n",
       "      <td>FC00004</td>\n",
       "      <td>대전공장</td>\n",
       "      <td>25</td>\n",
       "      <td>WH00003</td>\n",
       "      <td>수원창고</td>\n",
       "      <td>42</td>\n",
       "      <td>북부</td>\n",
       "    </tr>\n",
       "    <tr>\n",
       "      <th>1</th>\n",
       "      <td>2019-01-01 06:12:42</td>\n",
       "      <td>19</td>\n",
       "      <td>1.3</td>\n",
       "      <td>FC00007</td>\n",
       "      <td>부산공장</td>\n",
       "      <td>25</td>\n",
       "      <td>WH00006</td>\n",
       "      <td>광주창고</td>\n",
       "      <td>65</td>\n",
       "      <td>남부</td>\n",
       "    </tr>\n",
       "    <tr>\n",
       "      <th>2</th>\n",
       "      <td>2019-01-01 06:32:32</td>\n",
       "      <td>31</td>\n",
       "      <td>0.9</td>\n",
       "      <td>FC00006</td>\n",
       "      <td>광주공장</td>\n",
       "      <td>30</td>\n",
       "      <td>WH00004</td>\n",
       "      <td>대전창고</td>\n",
       "      <td>60</td>\n",
       "      <td>남부</td>\n",
       "    </tr>\n",
       "    <tr>\n",
       "      <th>3</th>\n",
       "      <td>2019-01-01 07:17:06</td>\n",
       "      <td>18</td>\n",
       "      <td>1.6</td>\n",
       "      <td>FC00002</td>\n",
       "      <td>수원공장</td>\n",
       "      <td>29</td>\n",
       "      <td>WH00003</td>\n",
       "      <td>수원창고</td>\n",
       "      <td>42</td>\n",
       "      <td>북부</td>\n",
       "    </tr>\n",
       "    <tr>\n",
       "      <th>4</th>\n",
       "      <td>2019-01-01 07:52:18</td>\n",
       "      <td>30</td>\n",
       "      <td>0.8</td>\n",
       "      <td>FC00001</td>\n",
       "      <td>서울공장</td>\n",
       "      <td>28</td>\n",
       "      <td>WH00002</td>\n",
       "      <td>용인창고</td>\n",
       "      <td>41</td>\n",
       "      <td>북부</td>\n",
       "    </tr>\n",
       "  </tbody>\n",
       "</table>\n",
       "</div>"
      ],
      "text/plain": [
       "       TransactionDate  Quantity  Cost     ToFC FCName  FCDemand   FromWH  \\\n",
       "0  2019-01-01 02:11:10        33   1.1  FC00004   대전공장        25  WH00003   \n",
       "1  2019-01-01 06:12:42        19   1.3  FC00007   부산공장        25  WH00006   \n",
       "2  2019-01-01 06:32:32        31   0.9  FC00006   광주공장        30  WH00004   \n",
       "3  2019-01-01 07:17:06        18   1.6  FC00002   수원공장        29  WH00003   \n",
       "4  2019-01-01 07:52:18        30   0.8  FC00001   서울공장        28  WH00002   \n",
       "\n",
       "  WHName  WHSupply WHRegion  \n",
       "0   수원창고        42       북부  \n",
       "1   광주창고        65       남부  \n",
       "2   대전창고        60       남부  \n",
       "3   수원창고        42       북부  \n",
       "4   용인창고        41       북부  "
      ]
     },
     "execution_count": 9,
     "metadata": {},
     "output_type": "execute_result"
    }
   ],
   "source": [
    "# 창고정보 추가\n",
    "join_data = pd.merge(join_data, warehouses, left_on=\"FromWH\", right_on=\"WHID\", how=\"left\")\n",
    "# 컬럼 정리\n",
    "join_data = join_data[[\"TransactionDate\",\"Quantity\",\"Cost\",\"ToFC\",\"FCName\",\"FCDemand\",\"FromWH\",\"WHName\",\"WHSupply\",\"WHRegion\"]]\n",
    "join_data.head()"
   ]
  },
  {
   "cell_type": "code",
   "execution_count": 10,
   "metadata": {},
   "outputs": [
    {
     "data": {
      "text/html": [
       "<div>\n",
       "<style scoped>\n",
       "    .dataframe tbody tr th:only-of-type {\n",
       "        vertical-align: middle;\n",
       "    }\n",
       "\n",
       "    .dataframe tbody tr th {\n",
       "        vertical-align: top;\n",
       "    }\n",
       "\n",
       "    .dataframe thead th {\n",
       "        text-align: right;\n",
       "    }\n",
       "</style>\n",
       "<table border=\"1\" class=\"dataframe\">\n",
       "  <thead>\n",
       "    <tr style=\"text-align: right;\">\n",
       "      <th></th>\n",
       "      <th>TransactionDate</th>\n",
       "      <th>Quantity</th>\n",
       "      <th>Cost</th>\n",
       "      <th>ToFC</th>\n",
       "      <th>FCName</th>\n",
       "      <th>FCDemand</th>\n",
       "      <th>FromWH</th>\n",
       "      <th>WHName</th>\n",
       "      <th>WHSupply</th>\n",
       "      <th>WHRegion</th>\n",
       "    </tr>\n",
       "  </thead>\n",
       "  <tbody>\n",
       "    <tr>\n",
       "      <th>0</th>\n",
       "      <td>2019-01-01 02:11:10</td>\n",
       "      <td>33</td>\n",
       "      <td>1.1</td>\n",
       "      <td>FC00004</td>\n",
       "      <td>대전공장</td>\n",
       "      <td>25</td>\n",
       "      <td>WH00003</td>\n",
       "      <td>수원창고</td>\n",
       "      <td>42</td>\n",
       "      <td>북부</td>\n",
       "    </tr>\n",
       "    <tr>\n",
       "      <th>3</th>\n",
       "      <td>2019-01-01 07:17:06</td>\n",
       "      <td>18</td>\n",
       "      <td>1.6</td>\n",
       "      <td>FC00002</td>\n",
       "      <td>수원공장</td>\n",
       "      <td>29</td>\n",
       "      <td>WH00003</td>\n",
       "      <td>수원창고</td>\n",
       "      <td>42</td>\n",
       "      <td>북부</td>\n",
       "    </tr>\n",
       "    <tr>\n",
       "      <th>4</th>\n",
       "      <td>2019-01-01 07:52:18</td>\n",
       "      <td>30</td>\n",
       "      <td>0.8</td>\n",
       "      <td>FC00001</td>\n",
       "      <td>서울공장</td>\n",
       "      <td>28</td>\n",
       "      <td>WH00002</td>\n",
       "      <td>용인창고</td>\n",
       "      <td>41</td>\n",
       "      <td>북부</td>\n",
       "    </tr>\n",
       "    <tr>\n",
       "      <th>7</th>\n",
       "      <td>2019-01-01 09:09:30</td>\n",
       "      <td>12</td>\n",
       "      <td>1.5</td>\n",
       "      <td>FC00001</td>\n",
       "      <td>서울공장</td>\n",
       "      <td>28</td>\n",
       "      <td>WH00003</td>\n",
       "      <td>수원창고</td>\n",
       "      <td>42</td>\n",
       "      <td>북부</td>\n",
       "    </tr>\n",
       "    <tr>\n",
       "      <th>8</th>\n",
       "      <td>2019-01-01 10:52:55</td>\n",
       "      <td>27</td>\n",
       "      <td>1.5</td>\n",
       "      <td>FC00003</td>\n",
       "      <td>인천공장</td>\n",
       "      <td>31</td>\n",
       "      <td>WH00003</td>\n",
       "      <td>수원창고</td>\n",
       "      <td>42</td>\n",
       "      <td>북부</td>\n",
       "    </tr>\n",
       "  </tbody>\n",
       "</table>\n",
       "</div>"
      ],
      "text/plain": [
       "       TransactionDate  Quantity  Cost     ToFC FCName  FCDemand   FromWH  \\\n",
       "0  2019-01-01 02:11:10        33   1.1  FC00004   대전공장        25  WH00003   \n",
       "3  2019-01-01 07:17:06        18   1.6  FC00002   수원공장        29  WH00003   \n",
       "4  2019-01-01 07:52:18        30   0.8  FC00001   서울공장        28  WH00002   \n",
       "7  2019-01-01 09:09:30        12   1.5  FC00001   서울공장        28  WH00003   \n",
       "8  2019-01-01 10:52:55        27   1.5  FC00003   인천공장        31  WH00003   \n",
       "\n",
       "  WHName  WHSupply WHRegion  \n",
       "0   수원창고        42       북부  \n",
       "3   수원창고        42       북부  \n",
       "4   용인창고        41       북부  \n",
       "7   수원창고        42       북부  \n",
       "8   수원창고        42       북부  "
      ]
     },
     "execution_count": 10,
     "metadata": {},
     "output_type": "execute_result"
    }
   ],
   "source": [
    "# 북부 데이터 추출\n",
    "north = join_data.loc[join_data[\"WHRegion\"]==\"북부\"]\n",
    "north.head()"
   ]
  },
  {
   "cell_type": "code",
   "execution_count": 11,
   "metadata": {},
   "outputs": [
    {
     "data": {
      "text/html": [
       "<div>\n",
       "<style scoped>\n",
       "    .dataframe tbody tr th:only-of-type {\n",
       "        vertical-align: middle;\n",
       "    }\n",
       "\n",
       "    .dataframe tbody tr th {\n",
       "        vertical-align: top;\n",
       "    }\n",
       "\n",
       "    .dataframe thead th {\n",
       "        text-align: right;\n",
       "    }\n",
       "</style>\n",
       "<table border=\"1\" class=\"dataframe\">\n",
       "  <thead>\n",
       "    <tr style=\"text-align: right;\">\n",
       "      <th></th>\n",
       "      <th>TransactionDate</th>\n",
       "      <th>Quantity</th>\n",
       "      <th>Cost</th>\n",
       "      <th>ToFC</th>\n",
       "      <th>FCName</th>\n",
       "      <th>FCDemand</th>\n",
       "      <th>FromWH</th>\n",
       "      <th>WHName</th>\n",
       "      <th>WHSupply</th>\n",
       "      <th>WHRegion</th>\n",
       "    </tr>\n",
       "  </thead>\n",
       "  <tbody>\n",
       "    <tr>\n",
       "      <th>1</th>\n",
       "      <td>2019-01-01 06:12:42</td>\n",
       "      <td>19</td>\n",
       "      <td>1.3</td>\n",
       "      <td>FC00007</td>\n",
       "      <td>부산공장</td>\n",
       "      <td>25</td>\n",
       "      <td>WH00006</td>\n",
       "      <td>광주창고</td>\n",
       "      <td>65</td>\n",
       "      <td>남부</td>\n",
       "    </tr>\n",
       "    <tr>\n",
       "      <th>2</th>\n",
       "      <td>2019-01-01 06:32:32</td>\n",
       "      <td>31</td>\n",
       "      <td>0.9</td>\n",
       "      <td>FC00006</td>\n",
       "      <td>광주공장</td>\n",
       "      <td>30</td>\n",
       "      <td>WH00004</td>\n",
       "      <td>대전창고</td>\n",
       "      <td>60</td>\n",
       "      <td>남부</td>\n",
       "    </tr>\n",
       "    <tr>\n",
       "      <th>5</th>\n",
       "      <td>2019-01-01 08:56:09</td>\n",
       "      <td>31</td>\n",
       "      <td>0.3</td>\n",
       "      <td>FC00005</td>\n",
       "      <td>대구공장</td>\n",
       "      <td>21</td>\n",
       "      <td>WH00005</td>\n",
       "      <td>대구창고</td>\n",
       "      <td>72</td>\n",
       "      <td>남부</td>\n",
       "    </tr>\n",
       "    <tr>\n",
       "      <th>6</th>\n",
       "      <td>2019-01-01 09:00:15</td>\n",
       "      <td>33</td>\n",
       "      <td>0.7</td>\n",
       "      <td>FC00006</td>\n",
       "      <td>광주공장</td>\n",
       "      <td>30</td>\n",
       "      <td>WH00006</td>\n",
       "      <td>광주창고</td>\n",
       "      <td>65</td>\n",
       "      <td>남부</td>\n",
       "    </tr>\n",
       "    <tr>\n",
       "      <th>9</th>\n",
       "      <td>2019-01-01 14:12:51</td>\n",
       "      <td>21</td>\n",
       "      <td>0.7</td>\n",
       "      <td>FC00006</td>\n",
       "      <td>광주공장</td>\n",
       "      <td>30</td>\n",
       "      <td>WH00006</td>\n",
       "      <td>광주창고</td>\n",
       "      <td>65</td>\n",
       "      <td>남부</td>\n",
       "    </tr>\n",
       "  </tbody>\n",
       "</table>\n",
       "</div>"
      ],
      "text/plain": [
       "       TransactionDate  Quantity  Cost     ToFC FCName  FCDemand   FromWH  \\\n",
       "1  2019-01-01 06:12:42        19   1.3  FC00007   부산공장        25  WH00006   \n",
       "2  2019-01-01 06:32:32        31   0.9  FC00006   광주공장        30  WH00004   \n",
       "5  2019-01-01 08:56:09        31   0.3  FC00005   대구공장        21  WH00005   \n",
       "6  2019-01-01 09:00:15        33   0.7  FC00006   광주공장        30  WH00006   \n",
       "9  2019-01-01 14:12:51        21   0.7  FC00006   광주공장        30  WH00006   \n",
       "\n",
       "  WHName  WHSupply WHRegion  \n",
       "1   광주창고        65       남부  \n",
       "2   대전창고        60       남부  \n",
       "5   대구창고        72       남부  \n",
       "6   광주창고        65       남부  \n",
       "9   광주창고        65       남부  "
      ]
     },
     "execution_count": 11,
     "metadata": {},
     "output_type": "execute_result"
    }
   ],
   "source": [
    "# 남부데이터 추출\n",
    "south = join_data.loc[join_data[\"WHRegion\"]==\"남부\"]\n",
    "south.head()"
   ]
  },
  {
   "cell_type": "markdown",
   "metadata": {},
   "source": [
    "### 테크닉 52 : 현재 운송량, 비용을 확인해보자"
   ]
  },
  {
   "cell_type": "code",
   "execution_count": 12,
   "metadata": {},
   "outputs": [
    {
     "name": "stdout",
     "output_type": "stream",
     "text": [
      "북부지사 총비용: 2189.3만원\n",
      "남부지사 총비용: 2062.0만원\n"
     ]
    }
   ],
   "source": [
    "# 지사의 비용합계 계산\n",
    "print(\"북부지사 총비용: \" + str(north[\"Cost\"].sum()) + \"만원\")\n",
    "print(\"남부지사 총비용: \" + str(south[\"Cost\"].sum()) + \"만원\")"
   ]
  },
  {
   "cell_type": "code",
   "execution_count": 13,
   "metadata": {},
   "outputs": [
    {
     "name": "stdout",
     "output_type": "stream",
     "text": [
      "북부지사의 총부품 운송개수: 49146개\n",
      "남부지사의 총부품 운송개수: 50214개\n"
     ]
    }
   ],
   "source": [
    "# 지사의 총운송개수\n",
    "print(\"북부지사의 총부품 운송개수: \" + str(north[\"Quantity\"].sum()) + \"개\")\n",
    "print(\"남부지사의 총부품 운송개수: \" + str(south[\"Quantity\"].sum()) + \"개\")"
   ]
  },
  {
   "cell_type": "code",
   "execution_count": 14,
   "metadata": {},
   "outputs": [
    {
     "name": "stdout",
     "output_type": "stream",
     "text": [
      "북부지사의 부품 1개당 운송 비용: 445원\n",
      "남부지사의 부품 1개당 운송 비용: 410원\n"
     ]
    }
   ],
   "source": [
    "# 부품 1개당 운송비용\n",
    "tmp = (north[\"Cost\"].sum() / north[\"Quantity\"].sum()) * 10000\n",
    "print(\"북부지사의 부품 1개당 운송 비용: \" + str(int(tmp)) + \"원\")\n",
    "tmp = (south[\"Cost\"].sum() / south[\"Quantity\"].sum()) * 10000\n",
    "print(\"남부지사의 부품 1개당 운송 비용: \" + str(int(tmp)) + \"원\")"
   ]
  },
  {
   "cell_type": "code",
   "execution_count": 15,
   "metadata": {},
   "outputs": [
    {
     "name": "stdout",
     "output_type": "stream",
     "text": [
      "북부지사의 평균 운송 비용：1.075원\n",
      "남부지사의 평균 운송 비용：1.05원\n"
     ]
    }
   ],
   "source": [
    "# 비용을 지사별로 집계\n",
    "cost_chk = pd.merge(cost, factories, on=\"FCID\", how=\"left\")\n",
    "# 평균\n",
    "print(\"북부지사의 평균 운송 비용：\" + str(cost_chk[\"Cost\"].loc[cost_chk[\"FCRegion\"]==\"북부\"].mean()) + \"원\")\n",
    "print(\"남부지사의 평균 운송 비용：\" + str(cost_chk[\"Cost\"].loc[cost_chk[\"FCRegion\"]==\"남부\"].mean()) + \"원\")"
   ]
  },
  {
   "cell_type": "markdown",
   "metadata": {},
   "source": [
    "### 테크닉 53 : 네트워크를 가시화해보자"
   ]
  },
  {
   "cell_type": "code",
   "execution_count": 20,
   "metadata": {
    "scrolled": true
   },
   "outputs": [
    {
     "data": {
      "image/png": "[encoded data removed]",
      "text/plain": [
       "<Figure size 432x288 with 1 Axes>"
      ]
     },
     "metadata": {},
     "output_type": "display_data"
    }
   ],
   "source": [
    "import networkx as nx\n",
    "import matplotlib.pyplot as plt\n",
    "\n",
    "G=nx.Graph()\n",
    "\n",
    "G.add_node(\"nodeA\")\n",
    "G.add_node(\"nodeB\")\n",
    "G.add_node(\"nodeC\")\n",
    "\n",
    "G.add_edge(\"nodeA\",\"nodeB\")\n",
    "G.add_edge(\"nodeA\",\"nodeC\")\n",
    "G.add_edge(\"nodeB\",\"nodeC\")\n",
    "\n",
    "pos={}\n",
    "pos[\"nodeA\"]=(0,0)\n",
    "pos[\"nodeB\"]=(1,1)\n",
    "pos[\"nodeC\"]=(0,1)\n",
    "\n",
    "nx.draw(G)\n",
    "\n",
    "plt.show()"
   ]
  },
  {
   "cell_type": "code",
   "execution_count": 18,
   "metadata": {},
   "outputs": [
    {
     "name": "stdout",
     "output_type": "stream",
     "text": [
      "Collecting networkx\n",
      "  Downloading networkx-2.5.1-py3-none-any.whl (1.6 MB)\n",
      "Requirement already satisfied: decorator<5,>=4.3 in c:\\users\\leee2\\anaconda3\\envs\\r\\lib\\site-packages (from networkx) (4.4.2)\n",
      "Installing collected packages: networkx\n",
      "Successfully installed networkx-2.5.1\n"
     ]
    }
   ],
   "source": [
    "!pip install networkx"
   ]
  },
  {
   "cell_type": "markdown",
   "metadata": {},
   "source": [
    "### 테크닉 54 : 네트워크에 노드를 추가해보자"
   ]
  },
  {
   "cell_type": "code",
   "execution_count": 21,
   "metadata": {
    "scrolled": true
   },
   "outputs": [
    {
     "data": {
      "image/png": "[encoded data removed]",
      "text/plain": [
       "<Figure size 432x288 with 1 Axes>"
      ]
     },
     "metadata": {},
     "output_type": "display_data"
    }
   ],
   "source": [
    "import networkx as nx\n",
    "import matplotlib.pyplot as plt\n",
    "\n",
    "# 그래프 객체 생성．\n",
    "G=nx.Graph()\n",
    "\n",
    "# 노드 설정\n",
    "G.add_node(\"nodeA\")\n",
    "G.add_node(\"nodeB\")\n",
    "G.add_node(\"nodeC\")\n",
    "G.add_node(\"nodeD\")\n",
    "\n",
    "# 엣지 설정\n",
    "G.add_edge(\"nodeA\",\"nodeB\")\n",
    "G.add_edge(\"nodeA\",\"nodeC\")\n",
    "G.add_edge(\"nodeB\",\"nodeC\")\n",
    "G.add_edge(\"nodeA\",\"nodeD\")\n",
    "\n",
    "# 좌표 설정\n",
    "pos={}\n",
    "pos[\"nodeA\"]=(0,0)\n",
    "pos[\"nodeB\"]=(1,1)\n",
    "pos[\"nodeC\"]=(0,1)\n",
    "pos[\"nodeD\"]=(1,0)\n",
    "\n",
    "# 그리기\n",
    "nx.draw(G,pos, with_labels=True)\n",
    "\n",
    "# 표시\n",
    "plt.show()"
   ]
  },
  {
   "cell_type": "markdown",
   "metadata": {},
   "source": [
    "### 테크닉 55 : 경로에 가중치를 부여하자"
   ]
  },
  {
   "cell_type": "code",
   "execution_count": 22,
   "metadata": {},
   "outputs": [
    {
     "data": {
      "image/png": "[encoded data removed]",
      "text/plain": [
       "<Figure size 432x288 with 1 Axes>"
      ]
     },
     "metadata": {},
     "output_type": "display_data"
    }
   ],
   "source": [
    "import pandas as pd\n",
    "import numpy as np\n",
    "import matplotlib.pyplot as plt\n",
    "import networkx as nx\n",
    "\n",
    "# 데이터 불러오기\n",
    "df_w = pd.read_csv('network_weight.csv')\n",
    "df_p = pd.read_csv('network_pos.csv')\n",
    "\n",
    "# 엣지 가중치 리스트화\n",
    "size = 10\n",
    "edge_weights = []\n",
    "for i in range(len(df_w)):\n",
    "    for j in range(len(df_w.columns)):\n",
    "        edge_weights.append(df_w.iloc[i][j]*size)\n",
    "\n",
    "# 그래프 객체 생성\n",
    "G = nx.Graph()\n",
    "\n",
    "# 노드 설정\n",
    "for i in range(len(df_w.columns)):\n",
    "    G.add_node(df_w.columns[i])\n",
    "\n",
    "# 엣지 설정\n",
    "for i in range(len(df_w.columns)):\n",
    "    for j in range(len(df_w.columns)):\n",
    "        G.add_edge(df_w.columns[i],df_w.columns[j])\n",
    "\n",
    "# 좌표 설정\n",
    "pos = {}\n",
    "for i in range(len(df_w.columns)):\n",
    "    node = df_w.columns[i]\n",
    "    pos[node] = (df_p[node][0],df_p[node][1])\n",
    "\n",
    "# 그리기\n",
    "nx.draw(G, pos, with_labels=True,font_size=16, node_size = 1000, node_color='k', font_color='w', width=edge_weights)\n",
    "\n",
    "# 표시\n",
    "plt.show()"
   ]
  },
  {
   "cell_type": "markdown",
   "metadata": {},
   "source": [
    "### 테크닉 56 : 운송경로 정보를 불러오자"
   ]
  },
  {
   "cell_type": "code",
   "execution_count": 23,
   "metadata": {},
   "outputs": [
    {
     "data": {
      "text/html": [
       "<div>\n",
       "<style scoped>\n",
       "    .dataframe tbody tr th:only-of-type {\n",
       "        vertical-align: middle;\n",
       "    }\n",
       "\n",
       "    .dataframe tbody tr th {\n",
       "        vertical-align: top;\n",
       "    }\n",
       "\n",
       "    .dataframe thead th {\n",
       "        text-align: right;\n",
       "    }\n",
       "</style>\n",
       "<table border=\"1\" class=\"dataframe\">\n",
       "  <thead>\n",
       "    <tr style=\"text-align: right;\">\n",
       "      <th></th>\n",
       "      <th>F1</th>\n",
       "      <th>F2</th>\n",
       "      <th>F3</th>\n",
       "      <th>F4</th>\n",
       "    </tr>\n",
       "    <tr>\n",
       "      <th>공장</th>\n",
       "      <th></th>\n",
       "      <th></th>\n",
       "      <th></th>\n",
       "      <th></th>\n",
       "    </tr>\n",
       "  </thead>\n",
       "  <tbody>\n",
       "    <tr>\n",
       "      <th>W1</th>\n",
       "      <td>15</td>\n",
       "      <td>15</td>\n",
       "      <td>0</td>\n",
       "      <td>5</td>\n",
       "    </tr>\n",
       "    <tr>\n",
       "      <th>W2</th>\n",
       "      <td>5</td>\n",
       "      <td>0</td>\n",
       "      <td>30</td>\n",
       "      <td>5</td>\n",
       "    </tr>\n",
       "    <tr>\n",
       "      <th>W3</th>\n",
       "      <td>10</td>\n",
       "      <td>15</td>\n",
       "      <td>2</td>\n",
       "      <td>15</td>\n",
       "    </tr>\n",
       "  </tbody>\n",
       "</table>\n",
       "</div>"
      ],
      "text/plain": [
       "    F1  F2  F3  F4\n",
       "공장                \n",
       "W1  15  15   0   5\n",
       "W2   5   0  30   5\n",
       "W3  10  15   2  15"
      ]
     },
     "execution_count": 23,
     "metadata": {},
     "output_type": "execute_result"
    }
   ],
   "source": [
    "import pandas as pd\n",
    "\n",
    "df_tr = pd.read_csv('trans_route.csv', index_col=\"공장\")\n",
    "df_tr.head()"
   ]
  },
  {
   "cell_type": "markdown",
   "metadata": {},
   "source": [
    "### 테크닉 57 : 운송경로정보로 네트워크를 가시화해보자"
   ]
  },
  {
   "cell_type": "code",
   "execution_count": 24,
   "metadata": {},
   "outputs": [
    {
     "data": {
      "image/png": "[encoded data removed]",
      "text/plain": [
       "<Figure size 432x288 with 1 Axes>"
      ]
     },
     "metadata": {},
     "output_type": "display_data"
    }
   ],
   "source": [
    "import pandas as pd\n",
    "import matplotlib.pyplot as plt\n",
    "import networkx as nx\n",
    "\n",
    "df_tr = pd.read_csv('trans_route.csv', index_col=\"공장\")\n",
    "df_pos = pd.read_csv('trans_route_pos.csv')\n",
    "\n",
    "\n",
    "# 그래프 객체 생성\n",
    "G = nx.Graph()\n",
    "\n",
    "# 노드 설정\n",
    "for i in range(len(df_pos.columns)):\n",
    "    G.add_node(df_pos.columns[i])\n",
    "\n",
    "num_pre = 0\n",
    "edge_weights = []\n",
    "size = 0.1\n",
    "for i in range(len(df_pos.columns)):\n",
    "    for j in range(len(df_pos.columns)):\n",
    "        if not (i==j):\n",
    "            G.add_edge(df_pos.columns[i],df_pos.columns[j])\n",
    "            if num_pre<len(G.edges):\n",
    "                num_pre = len(G.edges)\n",
    "                weight = 0\n",
    "                if (df_pos.columns[i] in df_tr.columns)and(df_pos.columns[j] in df_tr.index):\n",
    "                    if df_tr[df_pos.columns[i]][df_pos.columns[j]]:\n",
    "                        weight = df_tr[df_pos.columns[i]][df_pos.columns[j]]*size\n",
    "                elif(df_pos.columns[j] in df_tr.columns)and(df_pos.columns[i] in df_tr.index):\n",
    "                    if df_tr[df_pos.columns[j]][df_pos.columns[i]]:\n",
    "                        weight = df_tr[df_pos.columns[j]][df_pos.columns[i]]*size\n",
    "                edge_weights.append(weight)\n",
    "                \n",
    "pos = {}\n",
    "for i in range(len(df_pos.columns)):\n",
    "    node = df_pos.columns[i]\n",
    "    pos[node] = (df_pos[node][0],df_pos[node][1])\n",
    "    \n",
    "nx.draw(G, pos, with_labels=True,font_size=16, node_size = 1000, node_color='k', font_color='w', width=edge_weights)\n",
    "\n",
    "plt.show()"
   ]
  },
  {
   "cell_type": "markdown",
   "metadata": {},
   "source": [
    "### 테크닉 58 : 운송비용함수를 작성하자"
   ]
  },
  {
   "cell_type": "code",
   "execution_count": 25,
   "metadata": {},
   "outputs": [
    {
     "name": "stdout",
     "output_type": "stream",
     "text": [
      "총 운송 비용:1493\n"
     ]
    }
   ],
   "source": [
    "import pandas as pd\n",
    "\n",
    "# 데이터 불러오기\n",
    "df_tr = pd.read_csv('trans_route.csv', index_col=\"공장\")\n",
    "df_tc = pd.read_csv('trans_cost.csv', index_col=\"공장\")\n",
    "\n",
    "# 운송 비용 함수\n",
    "def trans_cost(df_tr,df_tc):\n",
    "    cost = 0\n",
    "    for i in range(len(df_tc.index)):\n",
    "        for j in range(len(df_tr.columns)):\n",
    "            cost += df_tr.iloc[i][j]*df_tc.iloc[i][j]\n",
    "    return cost\n",
    "\n",
    "print(\"총 운송 비용:\"+str(trans_cost(df_tr,df_tc)))"
   ]
  },
  {
   "cell_type": "code",
   "execution_count": 28,
   "metadata": {},
   "outputs": [
    {
     "data": {
      "text/html": [
       "<div>\n",
       "<style scoped>\n",
       "    .dataframe tbody tr th:only-of-type {\n",
       "        vertical-align: middle;\n",
       "    }\n",
       "\n",
       "    .dataframe tbody tr th {\n",
       "        vertical-align: top;\n",
       "    }\n",
       "\n",
       "    .dataframe thead th {\n",
       "        text-align: right;\n",
       "    }\n",
       "</style>\n",
       "<table border=\"1\" class=\"dataframe\">\n",
       "  <thead>\n",
       "    <tr style=\"text-align: right;\">\n",
       "      <th></th>\n",
       "      <th>F1</th>\n",
       "      <th>F2</th>\n",
       "      <th>F3</th>\n",
       "      <th>F4</th>\n",
       "    </tr>\n",
       "    <tr>\n",
       "      <th>공장</th>\n",
       "      <th></th>\n",
       "      <th></th>\n",
       "      <th></th>\n",
       "      <th></th>\n",
       "    </tr>\n",
       "  </thead>\n",
       "  <tbody>\n",
       "    <tr>\n",
       "      <th>W1</th>\n",
       "      <td>15</td>\n",
       "      <td>15</td>\n",
       "      <td>0</td>\n",
       "      <td>5</td>\n",
       "    </tr>\n",
       "    <tr>\n",
       "      <th>W2</th>\n",
       "      <td>5</td>\n",
       "      <td>0</td>\n",
       "      <td>30</td>\n",
       "      <td>5</td>\n",
       "    </tr>\n",
       "    <tr>\n",
       "      <th>W3</th>\n",
       "      <td>10</td>\n",
       "      <td>15</td>\n",
       "      <td>2</td>\n",
       "      <td>15</td>\n",
       "    </tr>\n",
       "  </tbody>\n",
       "</table>\n",
       "</div>"
      ],
      "text/plain": [
       "    F1  F2  F3  F4\n",
       "공장                \n",
       "W1  15  15   0   5\n",
       "W2   5   0  30   5\n",
       "W3  10  15   2  15"
      ]
     },
     "execution_count": 28,
     "metadata": {},
     "output_type": "execute_result"
    }
   ],
   "source": [
    "df_tr"
   ]
  },
  {
   "cell_type": "markdown",
   "metadata": {},
   "source": [
    "### 테크닉 59 : 제약조건을 만들어보자"
   ]
  },
  {
   "cell_type": "code",
   "execution_count": 31,
   "metadata": {
    "scrolled": false
   },
   "outputs": [
    {
     "name": "stdout",
     "output_type": "stream",
     "text": [
      "F1으로 운송량:30 (수요량:28)\n",
      "수요량을 만족시키고있음\n",
      "F2으로 운송량:30 (수요량:29)\n",
      "수요량을 만족시키고있음\n",
      "F3으로 운송량:32 (수요량:31)\n",
      "수요량을 만족시키고있음\n",
      "F4으로 운송량:25 (수요량:25)\n",
      "수요량을 만족시키고있음\n"
     ]
    }
   ],
   "source": [
    "import pandas as pd\n",
    "\n",
    "df_tr = pd.read_csv('trans_route.csv', index_col=\"공장\")\n",
    "df_demand = pd.read_csv('demand.csv')\n",
    "df_supply = pd.read_csv('supply.csv')\n",
    "\n",
    "for i in range(len(df_demand.columns)):\n",
    "    temp_sum = sum(df_tr[df_demand.columns[i]])\n",
    "    print(str(df_demand.columns[i])+\"으로 운송량:\"+str(temp_sum)+\" (수요량:\"+str(df_demand.iloc[0][i])+\")\")\n",
    "    if temp_sum>=df_demand.iloc[0][i]:\n",
    "        print(\"수요량을 만족시키고있음\")\n",
    "    else:\n",
    "        print(\"수요량을 만족시키지 못하고 있음. 운송경로 재계산 필요\")"
   ]
  },
  {
   "cell_type": "code",
   "execution_count": 30,
   "metadata": {},
   "outputs": [
    {
     "name": "stdout",
     "output_type": "stream",
     "text": [
      "수요조건 계산결과:[1. 1. 1. 1.]\n",
      "공급조건 계산결과:[1. 0. 1.]\n"
     ]
    }
   ],
   "source": [
    "import pandas as pd\n",
    "import numpy as np\n",
    "\n",
    "def condition_demand(df_tr,df_demand):\n",
    "    flag = np.zeros(len(df_demand.columns))\n",
    "    for i in range(len(df_demand.columns)):\n",
    "        temp_sum = sum(df_tr[df_demand.columns[i]])\n",
    "        if (temp_sum>=df_demand.iloc[0][i]):\n",
    "            flag[i] = 1\n",
    "    return flag\n",
    "            \n",
    "# 공급축 즉 창고쪽 제약 조건\n",
    "def condition_supply(df_tr,df_supply):\n",
    "    flag = np.zeros(len(df_supply.columns))\n",
    "    for i in range(len(df_supply.columns)):\n",
    "        temp_sum = sum(df_tr.loc[df_supply.columns[i]])\n",
    "        if temp_sum<=df_supply.iloc[0][i]:\n",
    "            flag[i] = 1\n",
    "    return flag\n",
    "\n",
    "print(\"수요조건 계산결과:\"+str(condition_demand(df_tr_new,df_demand)))\n",
    "print(\"공급조건 계산결과:\"+str(condition_supply(df_tr_new,df_supply)))"
   ]
  },
  {
   "cell_type": "code",
   "execution_count": null,
   "metadata": {},
   "outputs": [],
   "source": []
  }
 ],
 "metadata": {
  "kernelspec": {
   "display_name": "Python 3",
   "language": "python",
   "name": "python3"
  },
  "language_info": {
   "codemirror_mode": {
    "name": "ipython",
    "version": 3
   },
   "file_extension": ".py",
   "mimetype": "text/x-python",
   "name": "python",
   "nbconvert_exporter": "python",
   "pygments_lexer": "ipython3",
   "version": "3.9.2"
  }
 },
 "nbformat": 4,
 "nbformat_minor": 2
}
