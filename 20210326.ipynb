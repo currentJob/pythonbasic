{
 "cells": [
  {
   "cell_type": "code",
   "execution_count": 37,
   "metadata": {},
   "outputs": [
    {
     "name": "stdout",
     "output_type": "stream",
     "text": [
      "Enter strong:sdafasdf\n",
      "upper 0\n",
      "lower 8"
     ]
    }
   ],
   "source": [
    "en = input(\"Enter strong:\")\n",
    "a = 0\n",
    "b = 0\n",
    "\n",
    "for i in en:\n",
    "    if i.isupper():\n",
    "        a += 1\n",
    "\n",
    "    elif i.islower():\n",
    "        b += 1\n",
    "\n",
    "print(\"upper\", a, end = \"\")\n",
    "print(sep = \"\")\n",
    "print(\"lower\", b, end = \"\")"
   ]
  },
  {
   "cell_type": "code",
   "execution_count": 35,
   "metadata": {},
   "outputs": [
    {
     "name": "stdout",
     "output_type": "stream",
     "text": [
      "4000\n"
     ]
    }
   ],
   "source": [
    "print(str(list(range(1,10001))).count('8'))"
   ]
  },
  {
   "cell_type": "code",
   "execution_count": 38,
   "metadata": {},
   "outputs": [
    {
     "name": "stdout",
     "output_type": "stream",
     "text": [
      "num? : 13\n",
      "0, 1, 1, 2, 3, 5, 8, 13"
     ]
    }
   ],
   "source": [
    "n=int(input(\"num? : \"))\n",
    "a=0;b=1\n",
    "print('0', end='')\n",
    "while b<=n:\n",
    "    print(', %d'%b, end='')\n",
    "    a,b = b,a+b"
   ]
  },
  {
   "cell_type": "code",
   "execution_count": 41,
   "metadata": {},
   "outputs": [
    {
     "name": "stdout",
     "output_type": "stream",
     "text": [
      "홀수 3개, 짝수 2개\n",
      "홀수 1개, 짝수 4개\n",
      "홀수 5개, 짝수 0개\n"
     ]
    }
   ],
   "source": [
    "def func (numlist):\n",
    "    even_count=0\n",
    "    odd_count=0\n",
    "    \n",
    "    for x in numlist:\n",
    "        if(x%2==0):\n",
    "            even_count+=1\n",
    "        else:\n",
    "            odd_count+=1\n",
    "            \n",
    "    print(\"홀수 %s개, 짝수 %s개\"%(odd_count, even_count) )\n",
    "    \n",
    "func([3, 4, 5, 6, 7])\n",
    "func([12, 16, 22, 24, 29])\n",
    "func([41, 43, 45, 47, 49])"
   ]
  },
  {
   "cell_type": "code",
   "execution_count": 33,
   "metadata": {},
   "outputs": [
    {
     "name": "stdout",
     "output_type": "stream",
     "text": [
      "제 1각을 입력하세요20\n",
      "제 2각을 입력하세요40\n",
      "제 3각을 입력하세요120\n",
      "둔각 삼각형\n"
     ]
    }
   ],
   "source": [
    "x = int(input(\"제 1각을 입력하세요\"))       # 제 1각을 입력 받는다.\n",
    "y = int(input(\"제 2각을 입력하세요\"))       # 제 2각을 입력 받는다.\n",
    "z = int(input(\"제 3각을 입력하세요\"))       # 제 3각을 입력 받는다.\n",
    "\n",
    "if z + x + y != 180 or min(x, y, z) <= 0:  # 만약 x + y + z 가 180이 아니거나 각이 0을 넘지 못하면\n",
    "    print(\"삼각형이 아니다.\")               # 삼각형이 아니다.\n",
    "    \n",
    "else:                                       # 그게 아니면 삼각형이다.\n",
    "    \n",
    "    if z == 90 or x == 90 or y == 90:      # 만약 한 각이라도 90이면\n",
    "        print(\"직각 삼각형\")                 # 직각 삼각형을 출력\n",
    "        \n",
    "    elif max(z,x,y) > 90:                   # 제일 큰 각이 90도를 넘으면\n",
    "        print(\"둔각 삼각형\")                 # 둔각 삼각형을 출력\n",
    "        \n",
    "    else:                                   # 삼각형이지만 위 조건이 아니라면\n",
    "        print(\"예각 삼각형\")                 # 예각 삼각형을 출력"
   ]
  },
  {
   "cell_type": "code",
   "execution_count": 76,
   "metadata": {},
   "outputs": [
    {
     "data": {
      "text/plain": [
       "[0, 1, 1, 2, 3, 5, 8, 13, 21, 34, 55, 89]"
      ]
     },
     "execution_count": 76,
     "metadata": {},
     "output_type": "execute_result"
    }
   ],
   "source": [
    "def fib(n):\n",
    "    fibList=[0, 1]\n",
    "    if n==1 or n==2:\n",
    "        return 1\n",
    "    for i in range(2,n):\n",
    "        fibList.append(fibList[i-1] + fibList[i-2])\n",
    "    return fibList\n",
    "\n",
    "fib(12)"
   ]
  },
  {
   "cell_type": "code",
   "execution_count": 147,
   "metadata": {},
   "outputs": [
    {
     "name": "stdout",
     "output_type": "stream",
     "text": [
      "0, 1, 1, 2, 3, 5, 8, 13, 21, 34, 55, 89 총개수 = 12\n"
     ]
    }
   ],
   "source": [
    "def fid(n):                     # 함수 선언\n",
    "    a = 0; b = 1;               # a = 0, b = 1을 대입\n",
    "    global c                   # c에 전역 변수 선언\n",
    "    c = 1                       # c 에 초기값 1을 대입\n",
    "    print('0', end='')          # 시작지점 0을 출력\n",
    "    \n",
    "    while b <= n:              # b가 100보다 적을 경우\n",
    "        print(', %d'%b, end='') # b를 출력\n",
    "        a,b = b,a+b             # a에 b를 대입, b에 a+b를 대입\n",
    "        c += 1                  # 개수가 증가할 때마다 c+1\n",
    "\n",
    "fid(100)                        # 함수 fid에 100을 입력\n",
    "print(\" 총개수 =\",c)            # 총 개수 출력"
   ]
  },
  {
   "cell_type": "code",
   "execution_count": 149,
   "metadata": {},
   "outputs": [
    {
     "name": "stdout",
     "output_type": "stream",
     "text": [
      "[5, 2, 8, 6, 1, 9, 3, 7]\n"
     ]
    }
   ],
   "source": [
    "def change(x, i, j):\n",
    "    x[i], x[j] = x[j], x[i]\n",
    "    \n",
    "def Select(x, l, r):\n",
    "    select_val = x[l]\n",
    "    select_idx = l\n",
    "    while l <= r:\n",
    "        while l <= r and x[l] <= select_val:\n",
    "            l += 1\n",
    "        while l <= r and x[r] >= select_val:\n",
    "            r -= 1\n",
    "        if l <= r:\n",
    "            change(x, l, r)\n",
    "            l += 1\n",
    "            r -= 1\n",
    "    change(x, select_idx, r)\n",
    "    return r\n",
    "def quickSort(x, pivotMethod = Select):\n",
    "    def Qsort(x, first, last):\n",
    "        if first < last:\n",
    "            splitP = pivotMethod(x, first, last)\n",
    "            Qsort(x, first, splitP - 1)\n",
    "            Qsort(x, splitP + 1, last)\n",
    "        Qsort(x, 0, len(x) - 1)\n",
    "\n",
    "x = [5, 2, 8, 6, 1, 9, 3, 7]\n",
    "quickSort(x)\n",
    "print(x)"
   ]
  },
  {
   "cell_type": "code",
   "execution_count": 173,
   "metadata": {},
   "outputs": [
    {
     "name": "stdout",
     "output_type": "stream",
     "text": [
      "[8, 12, 1, 9, 25] [102, 32, 98]\n",
      "[8, 12, 1, 9] []\n",
      "[8, 1] [12]\n",
      "[] [8]\n",
      "[32] [102]\n",
      "[1, 8, 9, 12, 25, 31, 32, 98, 102]\n"
     ]
    }
   ],
   "source": [
    "def Quick_sort(a):\n",
    "    n = len(a)\n",
    "    \n",
    "    if n <= 1:  # 리스트가 1개면 정렬하지 않는다.\n",
    "        return a\n",
    "    \n",
    "    pivot = a[-1] # 리스트의 마지막을 피벗이라고 구함\n",
    "    g_left = []   # 피벗 수보다 작은 수를 담을 리스트\n",
    "    g_right = []  # 피벗 수보다 큰 수를 담을 리스트\n",
    "    \n",
    "    for i in range(0, n - 1):\n",
    "        if a[i] <= pivot:\n",
    "            g_left.append(a[i]) # 리스트의 수가 피벗보다 작으면 g_left에 추가\n",
    "        else:\n",
    "            g_right.append(a[i])\n",
    "    \n",
    "    print(g_left, g_right)\n",
    "    return Quick_sort(g_left) + [pivot] + Quick_sort(g_right) # 새로운 리스트를 만듦\n",
    "\n",
    "d = [8, 12, 1, 9, 102, 25, 32, 98, 31]\n",
    "print(Quick_sort(d))"
   ]
  },
  {
   "cell_type": "code",
   "execution_count": 177,
   "metadata": {},
   "outputs": [
    {
     "name": "stdout",
     "output_type": "stream",
     "text": [
      "0 번째 hi\n",
      "1 번째 hi\n",
      "2 번째 hi\n",
      "3 번째 hi\n",
      "4 번째 hi\n",
      "5 번째 hi\n",
      "6 번째 hi\n",
      "7 번째 hi\n",
      "8 번째 hi\n",
      "9 번째 hi\n",
      "10 번째 hi\n"
     ]
    }
   ],
   "source": [
    "# 파이썬에서는 재귀 깊이의 한계가 정해져 있다. 기본적으로 1000번 까지 수행 (함수를 사용해서 변경 가능)\n",
    "# 재귀함수를 사용할 때에는 종료 시점을 설정해야만 한다.\n",
    "\n",
    "def rec_func(i):\n",
    "    print(i, \"번째\", \"hi\")\n",
    "    if i < 10:\n",
    "        rec_func(i + 1)\n",
    "\n",
    "rec_func(0)"
   ]
  },
  {
   "cell_type": "code",
   "execution_count": 47,
   "metadata": {},
   "outputs": [
    {
     "name": "stdout",
     "output_type": "stream",
     "text": [
      "10\n",
      "9\n",
      "8\n",
      "7\n",
      "6\n",
      "5\n",
      "4\n",
      "3\n",
      "2\n",
      "1\n"
     ]
    },
    {
     "data": {
      "text/plain": [
       "55"
      ]
     },
     "execution_count": 47,
     "metadata": {},
     "output_type": "execute_result"
    }
   ],
   "source": [
    "# Quiz\n",
    "# 1에서 10까지 합을 재귀함수로 구현\n",
    "\n",
    "def rec_func(i):\n",
    "    if i == 0:\n",
    "        return 0\n",
    "    else:\n",
    "        print(i)\n",
    "        return i + rec_func(i - 1)\n",
    "\n",
    "rec_func(10)"
   ]
  },
  {
   "cell_type": "code",
   "execution_count": null,
   "metadata": {},
   "outputs": [],
   "source": []
  }
 ],
 "metadata": {
  "kernelspec": {
   "display_name": "Python 3",
   "language": "python",
   "name": "python3"
  },
  "language_info": {
   "codemirror_mode": {
    "name": "ipython",
    "version": 3
   },
   "file_extension": ".py",
   "mimetype": "text/x-python",
   "name": "python",
   "nbconvert_exporter": "python",
   "pygments_lexer": "ipython3",
   "version": "3.8.8"
  }
 },
 "nbformat": 4,
 "nbformat_minor": 4
}
